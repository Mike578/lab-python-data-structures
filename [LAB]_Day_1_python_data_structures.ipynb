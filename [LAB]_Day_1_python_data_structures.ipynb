{
  "cells": [
    {
      "cell_type": "markdown",
      "metadata": {
        "tags": [],
        "id": "fFIyMdGXPEu2"
      },
      "source": [
        "# Lab | Data Structures"
      ]
    },
    {
      "cell_type": "markdown",
      "metadata": {
        "id": "hU975cqzPEu3"
      },
      "source": [
        "## Exercise: Managing Customer Orders\n",
        "\n",
        "As part of a business venture, you are starting an online store that sells various products. To ensure smooth operations, you need to develop a program that manages customer orders and inventory.\n",
        "\n",
        "Follow the steps below to complete the exercise:\n",
        "\n",
        "1. Define a list called `products` that contains the following items: \"t-shirt\", \"mug\", \"hat\", \"book\", \"keychain\".\n",
        "\n",
        "2. Create an empty dictionary called `inventory`.\n",
        "\n",
        "3. Ask the user to input the quantity of each product available in the inventory. Use the product names from the `products` list as keys in the `inventory` dictionary and assign the respective quantities as values.\n",
        "\n",
        "4. Create an empty set called `customer_orders`.\n",
        "\n",
        "5. Ask the user to input the name of three products that a customer wants to order (from those in the products list, meaning three products out of \"t-shirt\", \"mug\", \"hat\", \"book\" or \"keychain\". Add each product name to the `customer_orders` set.\n",
        "\n",
        "6. Print the products in the `customer_orders` set.\n",
        "\n",
        "7. Calculate the following order statistics:\n",
        "   - Total Products Ordered: The total number of products in the `customer_orders` set.\n",
        "   - Percentage of Products Ordered: The percentage of products ordered compared to the total available products.\n",
        "   \n",
        "   Store these statistics in a tuple called `order_status`.\n",
        "\n",
        "8. Print the order statistics using the following format:\n",
        "   ```\n",
        "   Order Statistics:\n",
        "   Total Products Ordered: <total_products_ordered>\n",
        "   Percentage of Products Ordered: <percentage_ordered>%\n",
        "   ```\n",
        "\n",
        "9. Update the inventory by subtracting 1 from the quantity of each product. Modify the `inventory` dictionary accordingly.\n",
        "\n",
        "10. Print the updated inventory, displaying the quantity of each product on separate lines.\n",
        "\n",
        "Solve the exercise by implementing the steps using the Python concepts of lists, dictionaries, sets, and basic input/output operations."
      ]
    },
    {
      "cell_type": "code",
      "source": [
        "'''\n",
        "# As part of a business venture, you are starting an online store that sells various products.\n",
        "To ensure smooth operations, you need to develop a program that manages customer orders and inventory.\n",
        "Follow the steps below to complete the exercise:\n",
        "\n",
        "\n",
        "'''\n",
        "# 1. Define a list called `products` that contains the following items: \"t-shirt\", \"mug\", \"hat\", \"book\", \"keychain\".\n",
        "products = [\"t-shirt\", \"mug\", \"hat\", \"book\", \"keychain\"]\n",
        "print(products)\n"
      ],
      "metadata": {
        "colab": {
          "base_uri": "https://localhost:8080/"
        },
        "id": "3CS1OD7fpJx4",
        "outputId": "009e0419-31a1-4c09-ce7b-dbd8a4505277"
      },
      "execution_count": null,
      "outputs": [
        {
          "output_type": "stream",
          "name": "stdout",
          "text": [
            "['t-shirt', 'mug', 'hat', 'book', 'keychain']\n"
          ]
        }
      ]
    },
    {
      "cell_type": "code",
      "source": [
        "# 2. Create an empty dictionary called `inventory`.\n",
        "inventory = {}"
      ],
      "metadata": {
        "id": "HW-NiVZSpfnq"
      },
      "execution_count": null,
      "outputs": []
    },
    {
      "cell_type": "code",
      "source": [
        "# DO NOT RUN\n",
        "#Méthode pour pouvoir boucler en etape 9:\n",
        "inventory = {product: 0 for product in products}"
      ],
      "metadata": {
        "id": "XGXBwxkgP7CI"
      },
      "execution_count": null,
      "outputs": []
    },
    {
      "cell_type": "code",
      "source": [
        "# 3. Ask the user to input the quantity of each product available in the inventory.\n",
        "# Use the product names from the `products` list as keys in the `inventory` dictionary and assign the respective quantities as values.\n",
        "\n",
        "tshirt_ask = int(input(\"Please enter a number of t-shirts: \"))\n",
        "mug_ask = int(input(\"Please enter a number of mugs: \"))\n",
        "hat_ask = int(input(\"Please enter a number of hats: \"))\n",
        "book_ask = int(input(\"Please enter a number of books: \"))\n",
        "keychain_ask = int(input(\"Please enter a number of keychains: \"))\n",
        "\n",
        "inventory['t-shirt'] = tshirt_ask\n",
        "inventory['mug'] = mug_ask\n",
        "inventory['hat'] = hat_ask\n",
        "inventory['book'] = book_ask\n",
        "inventory['keychain'] = keychain_ask\n",
        "\n",
        "inventory\n",
        "\n"
      ],
      "metadata": {
        "colab": {
          "base_uri": "https://localhost:8080/"
        },
        "id": "TwxaDZl8p39i",
        "outputId": "66024064-85cf-47ee-f8d7-eb8b611882fc"
      },
      "execution_count": null,
      "outputs": [
        {
          "name": "stdout",
          "output_type": "stream",
          "text": [
            "Please enter a number of t-shirts: 2\n",
            "Please enter a number of mugs: 3\n",
            "Please enter a number of hats: 4\n",
            "Please enter a number of books: 5\n",
            "Please enter a number of keychains: 6\n"
          ]
        },
        {
          "output_type": "execute_result",
          "data": {
            "text/plain": [
              "{'t-shirt': 2, 'mug': 3, 'hat': 4, 'book': 5, 'keychain': 6}"
            ]
          },
          "metadata": {},
          "execution_count": 69
        }
      ]
    },
    {
      "cell_type": "code",
      "source": [
        "# DO NOT RUN\n",
        "my_keys = [tshirt_ask, mug_ask, hat_ask, book_ask, keychain_ask]\n",
        "my_keys\n"
      ],
      "metadata": {
        "colab": {
          "base_uri": "https://localhost:8080/"
        },
        "id": "DsB5b82x8QCh",
        "outputId": "5beacc6e-45e8-4605-9c03-e73eea22d518"
      },
      "execution_count": null,
      "outputs": [
        {
          "output_type": "execute_result",
          "data": {
            "text/plain": [
              "{'t-shirt': '2', 'mug': '3', 'hat': '4', 'book': '5', 'keychain': '6'}"
            ]
          },
          "metadata": {},
          "execution_count": 48
        }
      ]
    },
    {
      "cell_type": "code",
      "source": [
        "#DO NOT RUN\n",
        "\n",
        "# Display the current inventory - méthode 1\n",
        "for i, j in zip(products, my_keys):\n",
        "    inventory[i] = j\n",
        "\n",
        "inventory\n",
        "\n",
        "# Display the current inventory - méthode 2\n",
        "print(\"\\nCurrent Inventory:\")\n",
        "for product, quantity in inventory.items():\n",
        "    print(f\"{product}: {quantity}\")"
      ],
      "metadata": {
        "colab": {
          "base_uri": "https://localhost:8080/"
        },
        "id": "eQkP6h2N5jOv",
        "outputId": "d1ebe7cf-31a5-4a38-aeea-bd50facdee42"
      },
      "execution_count": null,
      "outputs": [
        {
          "output_type": "execute_result",
          "data": {
            "text/plain": [
              "{'t-shirt': '2', 'mug': '3', 'hat': '4', 'book': '5', 'keychain': '6'}"
            ]
          },
          "metadata": {},
          "execution_count": 27
        }
      ]
    },
    {
      "cell_type": "code",
      "source": [
        "# 4. Create an empty set called `customer_orders`.\n",
        "customer_orders = set()"
      ],
      "metadata": {
        "id": "w-8HuPUH4BlU"
      },
      "execution_count": null,
      "outputs": []
    },
    {
      "cell_type": "code",
      "source": [
        "# 5. Ask the user to input the name of three products that a customer wants to order\n",
        "# (from those in the products list, meaning three products out of \"t-shirt\", \"mug\", \"hat\", \"book\" or \"keychain\". Add each product name to the `customer_orders` set.\n",
        "\n",
        "product_name = input(\"Enter the name of a product that a customer wants to order: \")\n",
        "customer_orders.add(product_name)\n",
        "\n",
        "product_name = input(\"Enter the name of another product that a customer wants to order: \")\n",
        "customer_orders.add(product_name)\n",
        "\n",
        "product_name = input(\"Enter the name of one more product that a customer wants to order: \")\n",
        "customer_orders.add(product_name)\n"
      ],
      "metadata": {
        "id": "CfbRCcgd-a-R",
        "colab": {
          "base_uri": "https://localhost:8080/"
        },
        "outputId": "47914b07-eb55-49f8-c591-fe393f8141f2"
      },
      "execution_count": null,
      "outputs": [
        {
          "name": "stdout",
          "output_type": "stream",
          "text": [
            "Enter the name of a product that a customer wants to order: t-shirt\n",
            "Enter the name of another product that a customer wants to order: mug\n",
            "Enter the name of one more product that a customer wants to order: hat\n"
          ]
        }
      ]
    },
    {
      "cell_type": "code",
      "source": [
        "#DO NOT RUN\n",
        "#autre méthode:\n",
        "\n",
        "for i in range(3):\n",
        "    product_order = input(f\"Enter the name of product {i + 1} to order: \")\n",
        "    customer_orders.add(product_order)"
      ],
      "metadata": {
        "id": "aI0hdc1eOoZR"
      },
      "execution_count": null,
      "outputs": []
    },
    {
      "cell_type": "code",
      "source": [
        "# 6. Print the products in the `customer_orders` set.\n",
        "print(\"Products in customer orders:\", customer_orders)"
      ],
      "metadata": {
        "colab": {
          "base_uri": "https://localhost:8080/"
        },
        "id": "y5RZmsQjuv7o",
        "outputId": "7f8736a7-0798-49dc-c5a8-58a3030cf6f2"
      },
      "execution_count": null,
      "outputs": [
        {
          "output_type": "stream",
          "name": "stdout",
          "text": [
            "Products in customer orders: {'hat', 't-shirt', 'mug'}\n"
          ]
        }
      ]
    },
    {
      "cell_type": "code",
      "source": [
        "# 7. Calculate the following order statistics:\n",
        "#    - Total Products Ordered: The total number of products in the `customer_orders` set.\n",
        "#    - Percentage of Products Ordered: The percentage of products ordered compared to the total available products.\n",
        "\n",
        "#   Store these statistics in a tuple called `order_status`.\n",
        "\n",
        "\n",
        "# Step 7: Calculate order statistics\n",
        "total_products_ordered = len(customer_orders)\n",
        "percentage_ordered = (total_products_ordered / len(products)) * 100\n",
        "\n",
        "# Store statistics in a tuple\n",
        "order_status = (total_products_ordered, percentage_ordered)"
      ],
      "metadata": {
        "id": "rB8aY0Dgu5Ex"
      },
      "execution_count": null,
      "outputs": []
    },
    {
      "cell_type": "code",
      "source": [
        "# 8. Print the order statistics using the following format:\n",
        "\n",
        "'''\n",
        "  Order Statistics:\n",
        "  Total Products Ordered: <total_products_ordered>\n",
        "  Percentage of Products Ordered: <percentage_ordered>%\n",
        "'''\n",
        "# Display order statistics\n",
        "print(\"Order Statistics:\")\n",
        "print(\"Total Products Ordered:\", order_status[0])\n",
        "print(\"Percentage of Unique Products Ordered:\", order_status[1])"
      ],
      "metadata": {
        "id": "jUhLF0C9vH4b",
        "colab": {
          "base_uri": "https://localhost:8080/"
        },
        "outputId": "e1dd8a21-5215-4c3c-c467-6e158a5fe2c6"
      },
      "execution_count": null,
      "outputs": [
        {
          "output_type": "stream",
          "name": "stdout",
          "text": [
            "Order Statistics:\n",
            "Total Products Ordered: 3\n",
            "Percentage of Unique Products Ordered: 60.0\n"
          ]
        }
      ]
    },
    {
      "cell_type": "code",
      "source": [
        "# 9. Update the inventory by subtracting 1 from the quantity of each product. Modify the `inventory` dictionary accordingly.\n",
        "print(inventory)\n",
        "print(inventory['t-shirt'])\n",
        "\n",
        "\n",
        "inventory[\"t-shirt\"] -= 1\n",
        "inventory[\"mug\"] -= 1\n",
        "inventory[\"hat\"] -= 1\n",
        "inventory[\"book\"] -= 1\n",
        "inventory[\"keychain\"] -= 1\n",
        "\n"
      ],
      "metadata": {
        "id": "WHGOJRZd-fys",
        "colab": {
          "base_uri": "https://localhost:8080/"
        },
        "outputId": "0d4869cc-f373-466f-b9e3-1826ba32ff87"
      },
      "execution_count": null,
      "outputs": [
        {
          "output_type": "stream",
          "name": "stdout",
          "text": [
            "{'t-shirt': 2, 'mug': 3, 'hat': 4, 'book': 5, 'keychain': 6}\n",
            "2\n"
          ]
        }
      ]
    },
    {
      "cell_type": "code",
      "source": [
        "print (inventory)"
      ],
      "metadata": {
        "colab": {
          "base_uri": "https://localhost:8080/"
        },
        "id": "zyYlhWFpUI8a",
        "outputId": "f5af5b4b-2c72-487a-c9c7-5d1888952148"
      },
      "execution_count": null,
      "outputs": [
        {
          "output_type": "stream",
          "name": "stdout",
          "text": [
            "{'t-shirt': 1, 'mug': 2, 'hat': 3, 'book': 4, 'keychain': 5}\n"
          ]
        }
      ]
    },
    {
      "cell_type": "code",
      "source": [
        "#DO NOT RUN\n",
        "\n",
        "# 9. Autre méthode\n",
        "\n",
        "for product in customer_orders:\n",
        "    if product in inventory and inventory[product] > 0:\n",
        "        inventory[product] -= 1\n",
        "\n",
        "# 10. Display updated inventory\n",
        "print(\"\\nUpdated Inventory:\")\n",
        "for product, quantity in inventory.items():\n",
        "    print(f\"{product}: {quantity}\")"
      ],
      "metadata": {
        "id": "C764g1alPq1U"
      },
      "execution_count": null,
      "outputs": []
    },
    {
      "cell_type": "code",
      "source": [
        "#10. Print the updated inventory, displaying the quantity of each product on separate lines.\n",
        "\n",
        "\n",
        "print(\"Updated Inventory:\")\n",
        "print(\"t-shirt:\", inventory[\"t-shirt\"])\n",
        "print(\"mug:\", inventory[\"mug\"])\n",
        "print(\"hat:\", inventory[\"hat\"])\n",
        "print(\"book:\", inventory[\"book\"])\n",
        "print(\"keychain:\", inventory[\"keychain\"])"
      ],
      "metadata": {
        "id": "jnZNFC9PqBZc",
        "colab": {
          "base_uri": "https://localhost:8080/"
        },
        "outputId": "ccb49a97-f53f-4df2-9cf1-3773c7098fe4"
      },
      "execution_count": null,
      "outputs": [
        {
          "output_type": "stream",
          "name": "stdout",
          "text": [
            "Updated Inventory:\n",
            "t-shirt: 1\n",
            "mug: 2\n",
            "hat: 3\n",
            "book: 4\n",
            "keychain: 5\n"
          ]
        }
      ]
    }
  ],
  "metadata": {
    "kernelspec": {
      "display_name": "Python 3 (ipykernel)",
      "language": "python",
      "name": "python3"
    },
    "language_info": {
      "codemirror_mode": {
        "name": "ipython",
        "version": 3
      },
      "file_extension": ".py",
      "mimetype": "text/x-python",
      "name": "python",
      "nbconvert_exporter": "python",
      "pygments_lexer": "ipython3",
      "version": "3.9.13"
    },
    "colab": {
      "provenance": []
    }
  },
  "nbformat": 4,
  "nbformat_minor": 0
}